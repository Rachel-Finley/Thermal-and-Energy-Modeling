{
 "cells": [
  {
   "cell_type": "code",
   "execution_count": 1,
   "id": "747b8779-0dae-4e12-8e9c-a3a114504314",
   "metadata": {},
   "outputs": [],
   "source": [
    "import pandas as pd"
   ]
  },
  {
   "cell_type": "code",
   "execution_count": 2,
   "id": "55cf2bb1-57bf-4dae-b4af-5283d41306bb",
   "metadata": {},
   "outputs": [],
   "source": [
    "blackscholes_df = pd.read_csv(\"blackscholes_exp_2.csv\")\n",
    "bert_df = pd.read_csv(\"bert_exp_2.csv\")\n",
    "image_classifier_df = pd.read_csv(\"imageclassifier_exp_2.csv\")\n",
    "matmul_df = pd.read_csv(\"matmul_exp_2.csv\")\n",
    "sepia_df = pd.read_csv(\"sepiafilter_exp_2.csv\")\n",
    "spectrogram_df = pd.read_csv(\"spectrogram_exp_2.csv\")\n",
    "fourier_df = pd.read_csv(\"fourier_exp_2.csv\")\n",
    "kmeans_df = pd.read_csv(\"kmeans_exp_2.csv\")\n",
    "montecarlo_df = pd.read_csv(\"montecarlo_exp_2.csv\")\n",
    "euclidean_df = pd.read_csv(\"euclidean_exp_2.csv\")\n",
    "blackscholes_df_long = pd.read_csv(\"blackscholes_exp_3.csv\")\n",
    "bert_df_long = pd.read_csv(\"bert_qa_exp_3.csv\")\n",
    "image_classifier_df_long = pd.read_csv(\"image_classifier_exp_3.csv\")\n",
    "matmul_df_long = pd.read_csv(\"matmul_exp_3.csv\")\n",
    "sepia_df_long = pd.read_csv(\"sepia_exp_3.csv\")\n",
    "spectrogram_df_long = pd.read_csv(\"spectrogram_exp_3.csv\")\n",
    "fourier_df_long = pd.read_csv(\"fourier_exp_3.csv\")\n",
    "kmeans_df_long = pd.read_csv(\"k_means_exp_3.csv\")\n",
    "montecarlo_df_long = pd.read_csv(\"montecarlo_exp_3.csv\")\n",
    "euclidean_df_long = pd.read_csv(\"euclidean_exp_3.csv\")\n",
    "distilbert_df = pd.read_csv(\"distilbert_exp_2.csv\")"
   ]
  },
  {
   "cell_type": "code",
   "execution_count": 3,
   "id": "c8b053da-f0e8-42af-8947-24c51880ac61",
   "metadata": {},
   "outputs": [],
   "source": [
    "import random\n",
    "\n",
    "train_list = [blackscholes_df, sepia_df, bert_df_long,\n",
    "            kmeans_df, blackscholes_df_long, fourier_df, matmul_df_long, \n",
    "           sepia_df_long, spectrogram_df_long, fourier_df_long, spectrogram_df, image_classifier_df_long,\n",
    "           montecarlo_df_long, euclidean_df_long, bert_df_long, kmeans_df_long]\n",
    "val_list = [montecarlo_df, bert_df, euclidean_df]\n",
    "test_list = [image_classifier_df, spectrogram_df, matmul_df]\n",
    "\n",
    "# Select dataframes for each set using random sampling\n",
    "train_df = pd.concat(train_list, axis=0)\n",
    "#val_df = pd.concat(df_list[num_train:num_train+num_val], axis=0)\n",
    "val_df = pd.concat(val_list, axis=0)\n",
    "test_df = pd.concat(test_list, axis=0)\n",
    "\n",
    "train_df.dropna(inplace = True)\n",
    "val_df.dropna(inplace = True)\n",
    "test_df.dropna(inplace = True)"
   ]
  },
  {
   "cell_type": "code",
   "execution_count": 4,
   "id": "e738b8ab-3262-4789-854f-1e241faccf6c",
   "metadata": {},
   "outputs": [],
   "source": [
    "train_df.to_csv(\"train_set_3_.csv\", index = False)\n",
    "val_df.to_csv(\"val_set_3.csv\", index = False)\n",
    "test_df.to_csv(\"test_set_3.csv\", index = False)"
   ]
  },
  {
   "cell_type": "code",
   "execution_count": 5,
   "id": "44b98c78-76fe-4d02-896e-bf63257da593",
   "metadata": {},
   "outputs": [],
   "source": [
    "combined_df = pd.concat([train_df, val_df, test_df], axis = 0)\n",
    "combined_df.dropna(inplace = True)\n",
    "combined_df = combined_df.reset_index()\n",
    "combined_df.to_csv(\"all_benchmarks.csv\", index=False)"
   ]
  }
 ],
 "metadata": {
  "kernelspec": {
   "display_name": "Python 3 (ipykernel)",
   "language": "python",
   "name": "python3"
  },
  "language_info": {
   "codemirror_mode": {
    "name": "ipython",
    "version": 3
   },
   "file_extension": ".py",
   "mimetype": "text/x-python",
   "name": "python",
   "nbconvert_exporter": "python",
   "pygments_lexer": "ipython3",
   "version": "3.9.16"
  }
 },
 "nbformat": 4,
 "nbformat_minor": 5
}
